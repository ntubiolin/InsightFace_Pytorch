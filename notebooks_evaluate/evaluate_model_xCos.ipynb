{
 "cells": [
  {
   "cell_type": "code",
   "execution_count": null,
   "metadata": {
    "ExecuteTime": {
     "end_time": "2018-08-06T12:16:01.581503Z",
     "start_time": "2018-08-06T12:16:01.377552Z"
    }
   },
   "outputs": [],
   "source": [
    "# see http://stackoverflow.com/questions/1907993/autoreload-of-modules-in-ipython\n",
    "%load_ext autoreload\n",
    "%autoreload 2\n",
    "%matplotlib inline\n",
    "import pdb"
   ]
  },
  {
   "cell_type": "code",
   "execution_count": null,
   "metadata": {
    "ExecuteTime": {
     "end_time": "2018-08-06T12:16:02.981513Z",
     "start_time": "2018-08-06T12:16:01.884463Z"
    },
    "scrolled": true
   },
   "outputs": [],
   "source": [
    "from config import get_config\n",
    "import argparse\n",
    "from Learner import face_learner\n",
    "from data.data_pipe import get_val_pair\n",
    "from torchvision import transforms as trans\n",
    "from tqdm import tqdm_notebook as tqdm"
   ]
  },
  {
   "cell_type": "code",
   "execution_count": null,
   "metadata": {
    "ExecuteTime": {
     "end_time": "2018-08-06T12:16:15.802435Z",
     "start_time": "2018-08-06T12:16:15.225902Z"
    }
   },
   "outputs": [],
   "source": [
    "conf = get_config(training=False)\n",
    "conf.batch_size=200 # Why bs_size can only be the number that divide 6000 well?"
   ]
  },
  {
   "cell_type": "code",
   "execution_count": null,
   "metadata": {
    "ExecuteTime": {
     "end_time": "2018-08-06T12:07:28.254338Z",
     "start_time": "2018-08-06T12:07:25.077127Z"
    }
   },
   "outputs": [],
   "source": [
    "learner = face_learner(conf, inference=True)"
   ]
  },
  {
   "cell_type": "code",
   "execution_count": null,
   "metadata": {},
   "outputs": [],
   "source": [
    "import torch\n",
    "def getUnitAttention():\n",
    "    x = torch.ones(conf.batch_size//2, 1, 7, 7).cuda()\n",
    "    x /= x.flatten(2).sum(dim=2).repeat(1, 1, x.size(2) * x.size(3)).view_as(x)\n",
    "    return x\n",
    "unit_attention = getUnitAttention()\n",
    "unit_attention.size()\n"
   ]
  },
  {
   "cell_type": "code",
   "execution_count": null,
   "metadata": {},
   "outputs": [],
   "source": [
    "# Test patched Cos\n",
    "exdir = 'cosPatchWoTrained'\n",
    "\n",
    "#"
   ]
  },
  {
   "cell_type": "code",
   "execution_count": null,
   "metadata": {
    "ExecuteTime": {
     "end_time": "2018-08-05T08:16:48.699975Z",
     "start_time": "2018-08-05T08:16:48.577620Z"
    }
   },
   "outputs": [],
   "source": [
    "learner.load_state(conf, 'ir_se50.pth', model_only=True, from_save_folder=True, strict=False, model_atten=False)"
   ]
  },
  {
   "cell_type": "code",
   "execution_count": null,
   "metadata": {},
   "outputs": [],
   "source": [
    "lfw, lfw_issame = get_val_pair(conf.emore_folder, 'lfw')\n",
    "accuracy, best_threshold, roc_curve_tensor = learner.evaluate_attention(conf, \n",
    "                                                                        lfw, lfw_issame, \n",
    "                                                                        nrof_folds=10, tta=True, \n",
    "                                                                        attention=unit_attention)\n",
    "print('lfw - accuray:{}, threshold:{}'.format(accuracy, best_threshold))\n",
    "trans.ToPILImage()(roc_curve_tensor)\n"
   ]
  },
  {
   "cell_type": "code",
   "execution_count": null,
   "metadata": {},
   "outputs": [],
   "source": [
    "corrPlot = learner.plot_CorrBtwXCosAndCos(conf, \n",
    "                                          lfw, lfw_issame, \n",
    "                                          nrof_folds=10, tta=True, \n",
    "                                          attention=unit_attention)\n",
    "trans.ToPILImage()(corrPlot)"
   ]
  },
  {
   "cell_type": "code",
   "execution_count": null,
   "metadata": {},
   "outputs": [],
   "source": [
    "# lfw, lfw_issame = get_val_pair(conf.emore_folder, 'lfw')\n",
    "# learner.plot_Examples(conf, \n",
    "#                       lfw, lfw_issame, \n",
    "#                       nrof_folds=10, tta=True, \n",
    "#                       attention=unit_attention,\n",
    "#                       exDir=exdir)\n"
   ]
  },
  {
   "cell_type": "code",
   "execution_count": null,
   "metadata": {},
   "outputs": [],
   "source": [
    "# Test patched Cos\n",
    "exdir = 'cosPatchFtWithMs1M_uniAtten'\n",
    "print('done')\n",
    "#"
   ]
  },
  {
   "cell_type": "code",
   "execution_count": null,
   "metadata": {},
   "outputs": [],
   "source": [
    "mdl_name = '2019-08-25-14-35_accuracy:0.9931666666666666_step:218349_None.pth'\n",
    "learner.load_state(conf, mdl_name, model_only=True, from_save_folder=False, strict=True, model_atten=True)"
   ]
  },
  {
   "cell_type": "code",
   "execution_count": null,
   "metadata": {},
   "outputs": [],
   "source": [
    "lfw, lfw_issame = get_val_pair(conf.emore_folder, 'lfw')\n",
    "accuracy, best_threshold, roc_curve_tensor = learner.evaluate_attention(conf, \n",
    "                                                                        lfw, lfw_issame, \n",
    "                                                                        nrof_folds=10, tta=True, \n",
    "                                                                        attention=unit_attention)\n",
    "print('lfw - accuray:{}, threshold:{}'.format(accuracy, best_threshold))\n",
    "trans.ToPILImage()(roc_curve_tensor)"
   ]
  },
  {
   "cell_type": "code",
   "execution_count": null,
   "metadata": {},
   "outputs": [],
   "source": [
    "corrPlot = learner.plot_CorrBtwXCosAndCos(conf, \n",
    "                                          lfw, lfw_issame, \n",
    "                                          nrof_folds=10, tta=True, \n",
    "                                          attention=unit_attention)\n",
    "trans.ToPILImage()(corrPlot)"
   ]
  },
  {
   "cell_type": "code",
   "execution_count": null,
   "metadata": {},
   "outputs": [],
   "source": [
    "lfw, lfw_issame = get_val_pair(conf.emore_folder, 'lfw')\n",
    "learner.plot_Examples(conf, \n",
    "                      lfw, lfw_issame, \n",
    "                      nrof_folds=10, tta=True, \n",
    "                      attention=unit_attention,\n",
    "                      exDir=exdir)\n"
   ]
  },
  {
   "cell_type": "code",
   "execution_count": null,
   "metadata": {},
   "outputs": [],
   "source": [
    "input()"
   ]
  },
  {
   "cell_type": "code",
   "execution_count": null,
   "metadata": {},
   "outputs": [],
   "source": [
    "# Test patched Cos\n",
    "exdir = 'cosPatchFtWithMs1M_learnedAtten'\n",
    "\n",
    "#"
   ]
  },
  {
   "cell_type": "code",
   "execution_count": null,
   "metadata": {},
   "outputs": [],
   "source": [
    "lfw, lfw_issame = get_val_pair(conf.emore_folder, 'lfw')\n",
    "accuracy, best_threshold, roc_curve_tensor = learner.evaluate_attention(conf, \n",
    "                                                                        lfw, lfw_issame, \n",
    "                                                                        nrof_folds=10, tta=True, \n",
    "                                                                        attention=None)\n",
    "print('lfw - accuray:{}, threshold:{}'.format(accuracy, best_threshold))\n",
    "trans.ToPILImage()(roc_curve_tensor)"
   ]
  },
  {
   "cell_type": "code",
   "execution_count": null,
   "metadata": {},
   "outputs": [],
   "source": [
    "corrPlot = learner.plot_CorrBtwXCosAndCos(conf, \n",
    "                                          lfw, lfw_issame, \n",
    "                                          nrof_folds=10, tta=True, \n",
    "                                          attention=None)\n",
    "trans.ToPILImage()(corrPlot)\n"
   ]
  },
  {
   "cell_type": "code",
   "execution_count": null,
   "metadata": {},
   "outputs": [],
   "source": [
    "# Test patched Cos\n",
    "exdir = 'cosPatchFtWithMs1M_learnedAtten_LFW_1104_'\n",
    "\n",
    "#"
   ]
  },
  {
   "cell_type": "code",
   "execution_count": null,
   "metadata": {},
   "outputs": [],
   "source": [
    "mdl_name = '2019-08-25-14-35_accuracy:0.9931666666666666_step:218349_None.pth'\n",
    "learner.load_state(conf, mdl_name, model_only=True, from_save_folder=False, strict=True, model_atten=True)"
   ]
  },
  {
   "cell_type": "code",
   "execution_count": null,
   "metadata": {},
   "outputs": [],
   "source": [
    "# agedb_30, agedb_30_issame = get_val_pair(conf.emore_folder, 'agedb_30')\n",
    "# cfp_fp, cfp_fp_issame = get_val_pair(conf.emore_folder, 'cfp_fp')\n",
    "lfw, lfw_issame = get_val_pair(conf.emore_folder, 'lfw')\n",
    "learner.plot_Examples(conf, \n",
    "                      lfw, lfw_issame,\n",
    "#                       agedb_30, agedb_30_issame,\n",
    "#                       cfp_fp, cfp_fp_issame,\n",
    "                      nrof_folds=10, tta=True, \n",
    "                      attention=None,\n",
    "                      exDir=exdir)"
   ]
  },
  {
   "cell_type": "code",
   "execution_count": null,
   "metadata": {},
   "outputs": [],
   "source": [
    "input()"
   ]
  },
  {
   "cell_type": "code",
   "execution_count": null,
   "metadata": {
    "ExecuteTime": {
     "end_time": "2018-08-05T08:22:39.844455Z",
     "start_time": "2018-08-05T08:21:51.584778Z"
    },
    "scrolled": false
   },
   "outputs": [],
   "source": [
    "lfw, lfw_issame = get_val_pair(conf.emore_folder, 'lfw')\n",
    "accuracy, best_threshold, roc_curve_tensor = learner.evaluate(conf, lfw, lfw_issame, nrof_folds=10, tta=True)\n",
    "print('lfw - accuray:{}, threshold:{}'.format(accuracy, best_threshold))\n",
    "trans.ToPILImage()(roc_curve_tensor)"
   ]
  },
  {
   "cell_type": "code",
   "execution_count": null,
   "metadata": {
    "ExecuteTime": {
     "end_time": "2018-08-05T08:17:34.370828Z",
     "start_time": "2018-08-05T08:16:54.595433Z"
    }
   },
   "outputs": [],
   "source": [
    "vgg2_fp, vgg2_fp_issame = get_val_pair(conf.emore_folder, 'vgg2_fp')\n",
    "accuracy, best_threshold, roc_curve_tensor = learner.evaluate(conf, vgg2_fp, vgg2_fp_issame, nrof_folds=10, tta=True)\n",
    "print('vgg2_fp - accuray:{}, threshold:{}'.format(accuracy, best_threshold))\n",
    "trans.ToPILImage()(roc_curve_tensor)"
   ]
  },
  {
   "cell_type": "code",
   "execution_count": null,
   "metadata": {
    "ExecuteTime": {
     "end_time": "2018-08-05T08:18:22.280104Z",
     "start_time": "2018-08-05T08:17:34.371667Z"
    }
   },
   "outputs": [],
   "source": [
    "agedb_30, agedb_30_issame = get_val_pair(conf.emore_folder, 'agedb_30')\n",
    "accuracy, best_threshold, roc_curve_tensor = learner.evaluate(conf, agedb_30, agedb_30_issame, nrof_folds=10, tta=True)\n",
    "print('agedb_30 - accuray:{}, threshold:{}'.format(accuracy, best_threshold))\n",
    "trans.ToPILImage()(roc_curve_tensor)"
   ]
  },
  {
   "cell_type": "code",
   "execution_count": null,
   "metadata": {
    "ExecuteTime": {
     "end_time": "2018-08-05T08:19:10.989848Z",
     "start_time": "2018-08-05T08:18:22.280898Z"
    }
   },
   "outputs": [],
   "source": [
    "calfw, calfw_issame = get_val_pair(conf.emore_folder, 'calfw')\n",
    "accuracy, best_threshold, roc_curve_tensor = learner.evaluate(conf, calfw, calfw_issame, nrof_folds=10, tta=True)\n",
    "print('calfw - accuray:{}, threshold:{}'.format(accuracy, best_threshold))\n",
    "trans.ToPILImage()(roc_curve_tensor)"
   ]
  },
  {
   "cell_type": "code",
   "execution_count": null,
   "metadata": {
    "ExecuteTime": {
     "end_time": "2018-08-05T08:20:07.093886Z",
     "start_time": "2018-08-05T08:19:10.990656Z"
    }
   },
   "outputs": [],
   "source": [
    "cfp_ff, cfp_ff_issame = get_val_pair(conf.emore_folder, 'cfp_ff')\n",
    "accuracy, best_threshold, roc_curve_tensor = learner.evaluate(conf, cfp_ff, cfp_ff_issame, nrof_folds=10, tta=True)\n",
    "print('cfp_ff - accuray:{}, threshold:{}'.format(accuracy, best_threshold))\n",
    "trans.ToPILImage()(roc_curve_tensor)"
   ]
  },
  {
   "cell_type": "code",
   "execution_count": null,
   "metadata": {
    "ExecuteTime": {
     "end_time": "2018-08-05T08:21:03.272833Z",
     "start_time": "2018-08-05T08:20:07.094703Z"
    }
   },
   "outputs": [],
   "source": [
    "cfp_fp, cfp_fp_issame = get_val_pair(conf.emore_folder, 'cfp_fp')\n",
    "accuracy, best_threshold, roc_curve_tensor = learner.evaluate(conf, cfp_fp, cfp_fp_issame, nrof_folds=10, tta=True)\n",
    "print('cfp_fp - accuray:{}, threshold:{}'.format(accuracy, best_threshold))\n",
    "trans.ToPILImage()(roc_curve_tensor)"
   ]
  },
  {
   "cell_type": "code",
   "execution_count": null,
   "metadata": {
    "ExecuteTime": {
     "end_time": "2018-08-05T08:21:51.583959Z",
     "start_time": "2018-08-05T08:21:03.273666Z"
    }
   },
   "outputs": [],
   "source": [
    "cplfw, cplfw_issame = get_val_pair(conf.emore_folder, 'cplfw')\n",
    "accuracy, best_threshold, roc_curve_tensor = learner.evaluate(conf, cplfw, cplfw_issame, nrof_folds=10, tta=True)\n",
    "print('cplfw - accuray:{}, threshold:{}'.format(accuracy, best_threshold))\n",
    "trans.ToPILImage()(roc_curve_tensor)"
   ]
  },
  {
   "cell_type": "code",
   "execution_count": null,
   "metadata": {
    "ExecuteTime": {
     "end_time": "2018-08-06T12:16:20.800212Z",
     "start_time": "2018-08-06T12:16:20.779466Z"
    }
   },
   "outputs": [],
   "source": [
    "conf.use_mobilfacenet = True"
   ]
  },
  {
   "cell_type": "code",
   "execution_count": null,
   "metadata": {
    "ExecuteTime": {
     "end_time": "2018-08-06T12:16:23.221644Z",
     "start_time": "2018-08-06T12:16:21.054952Z"
    }
   },
   "outputs": [],
   "source": [
    "learner = face_learner(conf, inference=True)"
   ]
  },
  {
   "cell_type": "code",
   "execution_count": null,
   "metadata": {
    "ExecuteTime": {
     "end_time": "2018-08-06T12:16:28.597709Z",
     "start_time": "2018-08-06T12:16:28.517182Z"
    }
   },
   "outputs": [],
   "source": [
    "learner.load_state(conf, 'mobilefacenet.pth', True, True)"
   ]
  },
  {
   "cell_type": "code",
   "execution_count": null,
   "metadata": {
    "ExecuteTime": {
     "end_time": "2018-08-06T12:08:41.321635Z",
     "start_time": "2018-08-06T12:08:25.989406Z"
    }
   },
   "outputs": [],
   "source": [
    "vgg2_fp, vgg2_fp_issame = get_val_pair(conf.emore_folder, 'vgg2_fp')\n",
    "accuracy, best_threshold, roc_curve_tensor = learner.evaluate(conf, vgg2_fp, vgg2_fp_issame, nrof_folds=10, tta=True)\n",
    "print('vgg2_fp - accuray:{}, threshold:{}'.format(accuracy, best_threshold))\n",
    "trans.ToPILImage()(roc_curve_tensor)"
   ]
  },
  {
   "cell_type": "code",
   "execution_count": null,
   "metadata": {
    "ExecuteTime": {
     "end_time": "2018-08-06T12:08:58.154562Z",
     "start_time": "2018-08-06T12:08:41.322814Z"
    }
   },
   "outputs": [],
   "source": [
    "agedb_30, agedb_30_issame = get_val_pair(conf.emore_folder, 'agedb_30')\n",
    "accuracy, best_threshold, roc_curve_tensor = learner.evaluate(conf, agedb_30, agedb_30_issame, nrof_folds=10, tta=True)\n",
    "print('agedb_30 - accuray:{}, threshold:{}'.format(accuracy, best_threshold))\n",
    "trans.ToPILImage()(roc_curve_tensor)"
   ]
  },
  {
   "cell_type": "code",
   "execution_count": null,
   "metadata": {
    "ExecuteTime": {
     "end_time": "2018-08-06T12:09:15.709817Z",
     "start_time": "2018-08-06T12:08:58.155453Z"
    }
   },
   "outputs": [],
   "source": [
    "calfw, calfw_issame = get_val_pair(conf.emore_folder, 'calfw')\n",
    "accuracy, best_threshold, roc_curve_tensor = learner.evaluate(conf, calfw, calfw_issame, nrof_folds=10, tta=True)\n",
    "print('calfw - accuray:{}, threshold:{}'.format(accuracy, best_threshold))\n",
    "trans.ToPILImage()(roc_curve_tensor)"
   ]
  },
  {
   "cell_type": "code",
   "execution_count": null,
   "metadata": {
    "ExecuteTime": {
     "end_time": "2018-08-06T12:09:35.552967Z",
     "start_time": "2018-08-06T12:09:15.711000Z"
    }
   },
   "outputs": [],
   "source": [
    "cfp_ff, cfp_ff_issame = get_val_pair(conf.emore_folder, 'cfp_ff')\n",
    "accuracy, best_threshold, roc_curve_tensor = learner.evaluate(conf, cfp_ff, cfp_ff_issame, nrof_folds=10, tta=True)\n",
    "print('cfp_ff - accuray:{}, threshold:{}'.format(accuracy, best_threshold))\n",
    "trans.ToPILImage()(roc_curve_tensor)"
   ]
  },
  {
   "cell_type": "code",
   "execution_count": null,
   "metadata": {
    "ExecuteTime": {
     "end_time": "2018-08-06T12:09:54.973120Z",
     "start_time": "2018-08-06T12:09:35.553840Z"
    }
   },
   "outputs": [],
   "source": [
    "cfp_fp, cfp_fp_issame = get_val_pair(conf.emore_folder, 'cfp_fp')\n",
    "accuracy, best_threshold, roc_curve_tensor = learner.evaluate(conf, cfp_fp, cfp_fp_issame, nrof_folds=10, tta=True)\n",
    "print('cfp_fp - accuray:{}, threshold:{}'.format(accuracy, best_threshold))\n",
    "trans.ToPILImage()(roc_curve_tensor)"
   ]
  },
  {
   "cell_type": "code",
   "execution_count": null,
   "metadata": {
    "ExecuteTime": {
     "end_time": "2018-08-06T12:10:13.593599Z",
     "start_time": "2018-08-06T12:09:54.973974Z"
    }
   },
   "outputs": [],
   "source": [
    "cplfw, cplfw_issame = get_val_pair(conf.emore_folder, 'cplfw')\n",
    "accuracy, best_threshold, roc_curve_tensor = learner.evaluate(conf, cplfw, cplfw_issame, nrof_folds=10, tta=True)\n",
    "print('cplfw - accuray:{}, threshold:{}'.format(accuracy, best_threshold))\n",
    "trans.ToPILImage()(roc_curve_tensor)"
   ]
  },
  {
   "cell_type": "code",
   "execution_count": null,
   "metadata": {
    "ExecuteTime": {
     "end_time": "2018-08-06T12:10:30.937786Z",
     "start_time": "2018-08-06T12:10:13.594457Z"
    },
    "scrolled": false
   },
   "outputs": [],
   "source": [
    "lfw, lfw_issame = get_val_pair(conf.emore_folder, 'lfw')\n",
    "accuracy, best_threshold, roc_curve_tensor = learner.evaluate(conf, lfw, lfw_issame, nrof_folds=10, tta=True)\n",
    "print('lfw - accuray:{}, threshold:{}'.format(accuracy, best_threshold))\n",
    "trans.ToPILImage()(roc_curve_tensor)"
   ]
  }
 ],
 "metadata": {
  "hide_input": false,
  "kernelspec": {
   "display_name": "Python 3",
   "language": "python",
   "name": "python3"
  },
  "language_info": {
   "codemirror_mode": {
    "name": "ipython",
    "version": 3
   },
   "file_extension": ".py",
   "mimetype": "text/x-python",
   "name": "python",
   "nbconvert_exporter": "python",
   "pygments_lexer": "ipython3",
   "version": "3.7.4"
  }
 },
 "nbformat": 4,
 "nbformat_minor": 2
}
